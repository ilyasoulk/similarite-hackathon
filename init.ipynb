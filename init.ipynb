{
 "cells": [
  {
   "cell_type": "code",
   "execution_count": 29,
   "metadata": {},
   "outputs": [
    {
     "name": "stdout",
     "output_type": "stream",
     "text": [
      "data  init.ipynb  README  requirements.txt\n",
      "Requirement already satisfied: kaggle in /opt/mamba/lib/python3.11/site-packages (from -r requirements.txt (line 1)) (1.6.12)\n",
      "Requirement already satisfied: panda in /opt/mamba/lib/python3.11/site-packages (from -r requirements.txt (line 2)) (0.3.1)\n",
      "Requirement already satisfied: matplotlib in /opt/mamba/lib/python3.11/site-packages (from -r requirements.txt (line 3)) (3.8.4)\n",
      "Requirement already satisfied: six>=1.10 in /opt/mamba/lib/python3.11/site-packages (from kaggle->-r requirements.txt (line 1)) (1.16.0)\n",
      "Requirement already satisfied: certifi>=2023.7.22 in /opt/mamba/lib/python3.11/site-packages (from kaggle->-r requirements.txt (line 1)) (2024.2.2)\n",
      "Requirement already satisfied: python-dateutil in /opt/mamba/lib/python3.11/site-packages (from kaggle->-r requirements.txt (line 1)) (2.9.0)\n",
      "Requirement already satisfied: requests in /opt/mamba/lib/python3.11/site-packages (from kaggle->-r requirements.txt (line 1)) (2.31.0)\n",
      "Requirement already satisfied: tqdm in /opt/mamba/lib/python3.11/site-packages (from kaggle->-r requirements.txt (line 1)) (4.66.2)\n",
      "Requirement already satisfied: python-slugify in /opt/mamba/lib/python3.11/site-packages (from kaggle->-r requirements.txt (line 1)) (8.0.4)\n",
      "Requirement already satisfied: urllib3 in /opt/mamba/lib/python3.11/site-packages (from kaggle->-r requirements.txt (line 1)) (1.26.18)\n",
      "Requirement already satisfied: bleach in /opt/mamba/lib/python3.11/site-packages (from kaggle->-r requirements.txt (line 1)) (6.1.0)\n",
      "Requirement already satisfied: setuptools in /opt/mamba/lib/python3.11/site-packages (from panda->-r requirements.txt (line 2)) (69.2.0)\n",
      "Requirement already satisfied: contourpy>=1.0.1 in /opt/mamba/lib/python3.11/site-packages (from matplotlib->-r requirements.txt (line 3)) (1.2.1)\n",
      "Requirement already satisfied: cycler>=0.10 in /opt/mamba/lib/python3.11/site-packages (from matplotlib->-r requirements.txt (line 3)) (0.12.1)\n",
      "Requirement already satisfied: fonttools>=4.22.0 in /opt/mamba/lib/python3.11/site-packages (from matplotlib->-r requirements.txt (line 3)) (4.51.0)\n",
      "Requirement already satisfied: kiwisolver>=1.3.1 in /opt/mamba/lib/python3.11/site-packages (from matplotlib->-r requirements.txt (line 3)) (1.4.5)\n",
      "Requirement already satisfied: numpy>=1.21 in /opt/mamba/lib/python3.11/site-packages (from matplotlib->-r requirements.txt (line 3)) (1.26.4)\n",
      "Requirement already satisfied: packaging>=20.0 in /opt/mamba/lib/python3.11/site-packages (from matplotlib->-r requirements.txt (line 3)) (24.0)\n",
      "Requirement already satisfied: pillow>=8 in /opt/mamba/lib/python3.11/site-packages (from matplotlib->-r requirements.txt (line 3)) (10.2.0)\n",
      "Requirement already satisfied: pyparsing>=2.3.1 in /opt/mamba/lib/python3.11/site-packages (from matplotlib->-r requirements.txt (line 3)) (3.1.2)\n",
      "Requirement already satisfied: webencodings in /opt/mamba/lib/python3.11/site-packages (from bleach->kaggle->-r requirements.txt (line 1)) (0.5.1)\n",
      "Requirement already satisfied: text-unidecode>=1.3 in /opt/mamba/lib/python3.11/site-packages (from python-slugify->kaggle->-r requirements.txt (line 1)) (1.3)\n",
      "Requirement already satisfied: charset-normalizer<4,>=2 in /opt/mamba/lib/python3.11/site-packages (from requests->kaggle->-r requirements.txt (line 1)) (3.3.2)\n",
      "Requirement already satisfied: idna<4,>=2.5 in /opt/mamba/lib/python3.11/site-packages (from requests->kaggle->-r requirements.txt (line 1)) (3.6)\n"
     ]
    }
   ],
   "source": [
    "# download requirement\n",
    "!pip install -r requirements.txt"
   ]
  },
  {
   "cell_type": "code",
   "execution_count": 22,
   "metadata": {},
   "outputs": [
    {
     "name": "stdout",
     "output_type": "stream",
     "text": [
      "mkdir: cannot create directory ‘data’: File exists\n",
      "mv: cannot stat 'stanford-car-dataset-by-classes-folder.zip': No such file or directory\n",
      "/home/onyxia/work/similarite-hackathon/data\n",
      "Archive:  stanford-car-dataset-by-classes-folder.zip\n",
      "replace anno_test.csv? [y]es, [n]o, [A]ll, [N]one, [r]ename: ^C\n",
      "/home/onyxia/work/similarite-hackathon\n"
     ]
    }
   ],
   "source": [
    "# download dataset zip\n",
    "!kaggle datasets download jutrera/stanford-car-dataset-by-classes-folder\n",
    "# create folder data\n",
    "!mkdir data\n",
    "# unzip data into data file\n",
    "!mv stanford-car-dataset-by-classes-folder.zip data\n",
    "%cd data\n",
    "!unzip stanford-car-dataset-by-classes-folder.zip\n",
    "%cd ../"
   ]
  },
  {
   "cell_type": "code",
   "execution_count": null,
   "metadata": {},
   "outputs": [],
   "source": []
  }
 ],
 "metadata": {
  "kernelspec": {
   "display_name": "base",
   "language": "python",
   "name": "python3"
  },
  "language_info": {
   "codemirror_mode": {
    "name": "ipython",
    "version": 3
   },
   "file_extension": ".py",
   "mimetype": "text/x-python",
   "name": "python",
   "nbconvert_exporter": "python",
   "pygments_lexer": "ipython3",
   "version": "3.11.6"
  }
 },
 "nbformat": 4,
 "nbformat_minor": 2
}
